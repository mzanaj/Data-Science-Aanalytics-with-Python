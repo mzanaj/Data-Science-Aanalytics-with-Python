{
 "cells": [
  {
   "cell_type": "markdown",
   "metadata": {},
   "source": [
    "# Class: STATS 507\n",
    "Professor: Keith, Levin \n",
    "\n",
    "Student: Martin, Zanaj, mzanaj@umich.edu\n",
    "\n",
    "Homework 1\n",
    "\n",
    "I have not disclosed my code with no additional individual."
   ]
  },
  {
   "cell_type": "markdown",
   "metadata": {},
   "source": [
    "# 1 Warm up ~18 minutes"
   ]
  },
  {
   "cell_type": "code",
   "execution_count": 47,
   "metadata": {},
   "outputs": [],
   "source": [
    "#1. Hello \n",
    "def say_hi():\n",
    "    print('Hello, world!')\n",
    "\n",
    "#2. Goat \n",
    "def goat_pad(user_string):\n",
    "    goat= 'goat'\n",
    "    print(goat+user_string+goat)\n",
    "\n",
    "#3. Print s counter times\n",
    "def print_n(s, n):\n",
    "    #Have a counter, loop until counter eqauls n\n",
    "    counter = 0\n",
    "    while(counter!=n):\n",
    "        print(s, '\\n')\n",
    "        counter= counter+1"
   ]
  },
  {
   "cell_type": "markdown",
   "metadata": {},
   "source": [
    "# 2 Euclid's Algorithm  ~42 minutes\n",
    "#Reference: https://en.wikipedia.org/wiki/Euclidean_algorithm#Procedure, first implementation\n"
   ]
  },
  {
   "cell_type": "code",
   "execution_count": 48,
   "metadata": {},
   "outputs": [
    {
     "data": {
      "text/plain": [
       "60"
      ]
     },
     "execution_count": 48,
     "metadata": {},
     "output_type": "execute_result"
    }
   ],
   "source": [
    "#1. Function Euclid's Algo from Wiki\n",
    "def gcd(a,b):\n",
    "    if(a==0 and b==0):\n",
    "        print(\"Error. Definition violated.\")\n",
    "        return \n",
    "    if(a<0 or b<0):\n",
    "        print(\"Error. Definition violated.\")\n",
    "        return \n",
    "    \n",
    "    while(b!=0):\n",
    "        \n",
    "        t=b\n",
    "        b=a % b\n",
    "        a=t\n",
    "    return a\n",
    "\n",
    "#2. Evaluate gcd() for a, b, c\n",
    "gcd(2019,2020)\n",
    "gcd(1600,400)\n",
    "gcd(5040,60)\n",
    "\n",
    "#3. What does your function do if one or both of its arguments are negative?Does this behavior make sense?\n",
    "\n",
    "#So, whenever (a) is negative the definiton of Euclidian's formual is violated. If (b) or both (a & b) are \n",
    "#negative again we have a violation of the original defintion. In practice the gcd can always be computed for(positive)\n",
    "#values only (unles using extended Eucldian's algorithm). Also, only one value is permitted to be zero, if both are zero \n",
    "#we have an undefined scenario (definition violation). Finally, in order for the algorihtm to givea  proper result the \n",
    "#values must be positive and if a= 0, b> a, or if b=0, a > b. "
   ]
  },
  {
   "cell_type": "markdown",
   "metadata": {},
   "source": [
    "# 3. Approximating Euler's number ~ 2 hours"
   ]
  },
  {
   "cell_type": "code",
   "execution_count": 49,
   "metadata": {},
   "outputs": [],
   "source": [
    "#1. Euler's limit\n",
    "import math\n",
    "def euler_limit(n):\n",
    "    #Ensure float type \n",
    "    if(n==0):\n",
    "        return 1\n",
    "    \n",
    "    float_n = float(n)    \n",
    "    float_b= 1+ (1/float_n)\n",
    "    \n",
    "    #first arg is raised to second arg\n",
    "    e= math.pow(float_b,n)\n",
    "    return e\n",
    "\n",
    "#2. What happens when you call euler_limit for big numbers? start: 2:50pm end= 3:20pm\n",
    "#Reference: https://docs.python.org/3/tutorial/floatingpoint.html\n",
    "#Whenever I attempt to plug in a large number as the functions argument, I get an answer that equals to 1.0. The reason\n",
    "#for such number resides into the way Python (and other languages) represent floating point . The basics attempt is to adhere \n",
    "#to a IEEE standard (754) where a number is reppresent in base 2 instead of base 10 as common in the real world.When we attempt\n",
    "#to represent a number in base 2 we are never really able to give the exact value of that number, instead we are able to give \n",
    "#an approximation.This is due to different limitation, such as hardware limitations. The best Python can do for us is to allow \n",
    "#the reppresantation of a number containing at most 53 bits. If we look at the formula (1/0 ~=J/2**N)where J is the the 53 bits \n",
    "#number, our N value is between 2**52 <= 2^56, these values allow for a good estimate, but not an exact value. The moment we are\n",
    "#trying to estimate something like 10^18, we are going over the limitation of floating estimation (2^56 < 10^18). Hence, we get \n",
    "#a 0 for 1/n, and all that is left is the 1.0\n",
    "\n",
    "#3. Enter n, return 3 float\n",
    "import math\n",
    "def factorial(n):\n",
    "    if(n==0):\n",
    "        return 1\n",
    "    elif(n==1):\n",
    "        return 1\n",
    "    else:\n",
    "        return n*factorial(n-1)\n",
    "\n",
    "def euler_sum(n):\n",
    "    #base case\n",
    "    if(n==0):\n",
    "        return 0.0\n",
    "    i=n-1\n",
    "    float_sum = 0.0\n",
    "    \n",
    "    #Loop n times, compute the 1/factorial, add to sum\n",
    "    for x in range(n):\n",
    "        f= 1/factorial(i)\n",
    "        float_sum = float_sum + f\n",
    "        i = i-1\n",
    "    return float_sum\n",
    "\n",
    "#4. euler_approx, with epsilon as an argument?? Increase K unitil epsilon units away from True e\n",
    "def euler_approx(epsilon):\n",
    "       \n",
    "    true_value= math.exp(1)\n",
    "    k_factor = 0\n",
    "    e_approximation =euler_sum(k_factor)      \n",
    "\n",
    "    \n",
    "    if(type(epsilon)!= float or epsilon< 0):\n",
    "        print(\"Ensure type is float and/or that epsilon is positive\")\n",
    "    else:\n",
    "        while(True):\n",
    "            \n",
    "            #Limit approximation within epsilon\n",
    "            if((true_value-e_approximation)<=epsilon and  (true_value-e_approximation)>=0 ):\n",
    "                break\n",
    "            #Keep increasing K so as to get a better approximation\n",
    "            else:\n",
    "                e_approximation = euler_sum(k_factor)\n",
    "                k_factor= k_factor+1\n",
    "        #Professor said to return the approximation altought in the homework such instance is not mentioned (forgotten)\n",
    "        return e_approximation\n",
    "\n",
    "#5. Print error table from true e to approximated one\n",
    "def print_euler_sum_table(n):\n",
    "    true_value= math.exp(1)\n",
    "    counter = 0\n",
    "    e_approx = 0.0\n",
    "    error = 0.0\n",
    "    \n",
    "    if(n>=0):\n",
    "        while(counter<=n):\n",
    "            e_approx=euler_sum(counter) \n",
    "            error = true_value - e_approx\n",
    "            counter= counter +1\n",
    "            print(error)\n",
    "\n",
    "def print_euler_lim_table(n):\n",
    "    \n",
    "    true_value= math.exp(1)\n",
    "    counter = 0\n",
    "    e_approx = 0.0\n",
    "    error = 0.0\n",
    "    \n",
    "    if(n>=0):\n",
    "        \n",
    "        while(counter<=n):\n",
    "            \n",
    "            e_approx=euler_limit(counter) \n",
    "            error = true_value - e_approx\n",
    "            counter= counter +1\n",
    "            print(error)\n",
    "\n",
    "#6. Which is more accurate?\n",
    "\n",
    "#At first the limit give a better estimate but as soon as we hit n == 4 the error in the limit is much bigger than it\n",
    "#is in the summation formula. Hence, it is safe to conclude that for 0<=n<=3 the limit formula gives a better estimate. For \n",
    "#4<=n<= + infinity the summation formaula is more accurate with a smaller error."
   ]
  },
  {
   "cell_type": "markdown",
   "metadata": {},
   "source": [
    "# 4. Testing Properties of an Integer ~40 minutes"
   ]
  },
  {
   "cell_type": "code",
   "execution_count": 50,
   "metadata": {},
   "outputs": [],
   "source": [
    "#1. Power of 2\n",
    "def is_power_of_2(n):\n",
    "    if(n<0):\n",
    "        print(\"Error. Only Positive integers allowed\")\n",
    "       \n",
    "    elif(type(n)!= int):\n",
    "        print(\"Error. Only integers allowed\")\n",
    "        \n",
    "    elif(n==0):\n",
    "        return False\n",
    "    elif(n==1):\n",
    "        return False\n",
    "    elif(n>1):\n",
    "        while(n>1):\n",
    "            if(n%2==0):\n",
    "                n=n//2\n",
    "            else:\n",
    "                return False\n",
    "        return True\n",
    "\n",
    "#2. Power of any\n",
    "def is_power(b,n):\n",
    "    \n",
    "    if(n<0):\n",
    "        print(\"Error. Only Positive integers allowed\")\n",
    "       \n",
    "    elif(type(n)!= int):\n",
    "        print(\"Error. Only integers allowed\")\n",
    "        \n",
    "    elif(n==0 and b==0):\n",
    "        return False\n",
    "    \n",
    "    #0^0 = 1, life is surprising! \n",
    "    elif(n==0 and b==1):\n",
    "        return True\n",
    "    \n",
    "    elif(n>1 and b==0):\n",
    "        \n",
    "        return False\n",
    "    \n",
    "    else:\n",
    "        number =0\n",
    "        power = 0\n",
    "        while(number<=n):\n",
    "            if(n==b**power):\n",
    "                return True\n",
    "            power = power+1\n",
    "            number = b**power\n",
    "        return False"
   ]
  },
  {
   "cell_type": "raw",
   "metadata": {},
   "source": []
  },
  {
   "cell_type": "code",
   "execution_count": null,
   "metadata": {},
   "outputs": [],
   "source": []
  },
  {
   "cell_type": "code",
   "execution_count": null,
   "metadata": {},
   "outputs": [],
   "source": []
  },
  {
   "cell_type": "markdown",
   "metadata": {},
   "source": []
  },
  {
   "cell_type": "code",
   "execution_count": null,
   "metadata": {},
   "outputs": [],
   "source": []
  },
  {
   "cell_type": "markdown",
   "metadata": {},
   "source": []
  },
  {
   "cell_type": "markdown",
   "metadata": {},
   "source": []
  },
  {
   "cell_type": "code",
   "execution_count": null,
   "metadata": {},
   "outputs": [],
   "source": []
  },
  {
   "cell_type": "code",
   "execution_count": null,
   "metadata": {},
   "outputs": [],
   "source": []
  },
  {
   "cell_type": "code",
   "execution_count": 45,
   "metadata": {},
   "outputs": [],
   "source": []
  },
  {
   "cell_type": "code",
   "execution_count": null,
   "metadata": {},
   "outputs": [],
   "source": []
  }
 ],
 "metadata": {
  "kernelspec": {
   "display_name": "Python 3",
   "language": "python",
   "name": "python3"
  },
  "language_info": {
   "codemirror_mode": {
    "name": "ipython",
    "version": 3
   },
   "file_extension": ".py",
   "mimetype": "text/x-python",
   "name": "python",
   "nbconvert_exporter": "python",
   "pygments_lexer": "ipython3",
   "version": "3.7.1"
  }
 },
 "nbformat": 4,
 "nbformat_minor": 2
}
